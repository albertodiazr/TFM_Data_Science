{
 "cells": [
  {
   "cell_type": "markdown",
   "metadata": {},
   "source": [
    "# Creating dataset - Web Scraping"
   ]
  },
  {
   "cell_type": "markdown",
   "metadata": {},
   "source": [
    "Extraer la BBDD con datos de las empresas de **`invertirenbolsa.info`**\n",
    "\n",
    "La url general donde se encuentran los enlaces a cada empresa:"
   ]
  },
  {
   "cell_type": "code",
   "execution_count": 1,
   "metadata": {},
   "outputs": [],
   "source": [
    "la_url = 'https://www.invertirenbolsa.info/historico_dividendos.htm'"
   ]
  },
  {
   "cell_type": "markdown",
   "metadata": {},
   "source": [
    "Importar librerías"
   ]
  },
  {
   "cell_type": "code",
   "execution_count": 2,
   "metadata": {},
   "outputs": [],
   "source": [
    "import pandas as pd\n",
    "import numpy as np\n",
    "\n",
    "from IPython.display import IFrame"
   ]
  },
  {
   "cell_type": "markdown",
   "metadata": {},
   "source": [
    "Para mostrar una vista previa de la página:"
   ]
  },
  {
   "cell_type": "code",
   "execution_count": null,
   "metadata": {},
   "outputs": [],
   "source": [
    "## IFrame(la_url, 800, 600)"
   ]
  },
  {
   "cell_type": "markdown",
   "metadata": {},
   "source": [
    "Extraer la tabla con los nombres de la empresa para posteriormente utilizarlo como parte de cada url:"
   ]
  },
  {
   "cell_type": "code",
   "execution_count": 3,
   "metadata": {},
   "outputs": [],
   "source": [
    "master_table = pd.read_html(la_url, header=0)"
   ]
  },
  {
   "cell_type": "code",
   "execution_count": 4,
   "metadata": {
    "scrolled": true
   },
   "outputs": [
    {
     "data": {
      "text/html": [
       "<div>\n",
       "<style scoped>\n",
       "    .dataframe tbody tr th:only-of-type {\n",
       "        vertical-align: middle;\n",
       "    }\n",
       "\n",
       "    .dataframe tbody tr th {\n",
       "        vertical-align: top;\n",
       "    }\n",
       "\n",
       "    .dataframe thead th {\n",
       "        text-align: right;\n",
       "    }\n",
       "</style>\n",
       "<table border=\"1\" class=\"dataframe\">\n",
       "  <thead>\n",
       "    <tr style=\"text-align: right;\">\n",
       "      <th></th>\n",
       "      <th>Empresa</th>\n",
       "      <th>Cotización</th>\n",
       "      <th>Dividendo</th>\n",
       "      <th>RD%</th>\n",
       "      <th>BPA ord.</th>\n",
       "      <th>PER</th>\n",
       "      <th>VCA</th>\n",
       "      <th>P / VC</th>\n",
       "      <th>Prev</th>\n",
       "    </tr>\n",
       "  </thead>\n",
       "  <tbody>\n",
       "    <tr>\n",
       "      <th>0</th>\n",
       "      <td>3M</td>\n",
       "      <td>18032.0</td>\n",
       "      <td>58800</td>\n",
       "      <td>3,26%</td>\n",
       "      <td>9,45(e)</td>\n",
       "      <td>19,08(e)</td>\n",
       "      <td>2221</td>\n",
       "      <td>812</td>\n",
       "      <td>+ x Porcentaje recomendado a largo plazo en un...</td>\n",
       "    </tr>\n",
       "    <tr>\n",
       "      <th>1</th>\n",
       "      <td>AB Foods</td>\n",
       "      <td>2273.0</td>\n",
       "      <td>0,4635(e)</td>\n",
       "      <td>2,04%(e)</td>\n",
       "      <td>057</td>\n",
       "      <td>3988</td>\n",
       "      <td>1182</td>\n",
       "      <td>192</td>\n",
       "      <td>+ x Suspende el dividendo de 2020 porque en el...</td>\n",
       "    </tr>\n",
       "    <tr>\n",
       "      <th>2</th>\n",
       "      <td>Acciona</td>\n",
       "      <td>13000.0</td>\n",
       "      <td>19250</td>\n",
       "      <td>1,48%</td>\n",
       "      <td>641</td>\n",
       "      <td>2028</td>\n",
       "      <td>6237</td>\n",
       "      <td>208</td>\n",
       "      <td>+ x Porcentaje recomendado a largo plazo en un...</td>\n",
       "    </tr>\n",
       "    <tr>\n",
       "      <th>3</th>\n",
       "      <td>Acerinox</td>\n",
       "      <td>973.0</td>\n",
       "      <td>05000</td>\n",
       "      <td>5,14%</td>\n",
       "      <td>-022</td>\n",
       "      <td>-4423</td>\n",
       "      <td>692</td>\n",
       "      <td>141</td>\n",
       "      <td>+ x Creo que Acerinox puede ser válidad para e...</td>\n",
       "    </tr>\n",
       "    <tr>\n",
       "      <th>4</th>\n",
       "      <td>ACS</td>\n",
       "      <td>2646.0</td>\n",
       "      <td>19900</td>\n",
       "      <td>7,52%</td>\n",
       "      <td>306</td>\n",
       "      <td>865</td>\n",
       "      <td>1403</td>\n",
       "      <td>189</td>\n",
       "      <td>+ x Porcentaje recomendado a largo plazo en un...</td>\n",
       "    </tr>\n",
       "  </tbody>\n",
       "</table>\n",
       "</div>"
      ],
      "text/plain": [
       "    Empresa  Cotización  Dividendo       RD% BPA ord.       PER   VCA  P / VC  \\\n",
       "0        3M     18032.0      58800     3,26%  9,45(e)  19,08(e)  2221     812   \n",
       "1  AB Foods      2273.0  0,4635(e)  2,04%(e)      057      3988  1182     192   \n",
       "2   Acciona     13000.0      19250     1,48%      641      2028  6237     208   \n",
       "3  Acerinox       973.0      05000     5,14%     -022     -4423   692     141   \n",
       "4       ACS      2646.0      19900     7,52%      306       865  1403     189   \n",
       "\n",
       "                                                Prev  \n",
       "0  + x Porcentaje recomendado a largo plazo en un...  \n",
       "1  + x Suspende el dividendo de 2020 porque en el...  \n",
       "2  + x Porcentaje recomendado a largo plazo en un...  \n",
       "3  + x Creo que Acerinox puede ser válidad para e...  \n",
       "4  + x Porcentaje recomendado a largo plazo en un...  "
      ]
     },
     "execution_count": 4,
     "metadata": {},
     "output_type": "execute_result"
    }
   ],
   "source": [
    "master_table[0].head()"
   ]
  },
  {
   "cell_type": "code",
   "execution_count": 5,
   "metadata": {},
   "outputs": [
    {
     "data": {
      "text/plain": [
       "(109, 9)"
      ]
     },
     "execution_count": 5,
     "metadata": {},
     "output_type": "execute_result"
    }
   ],
   "source": [
    "master_table[0].shape"
   ]
  },
  {
   "cell_type": "markdown",
   "metadata": {},
   "source": [
    "Extraer cada valor de la columna \"Empresa\" para iterar y utilizarlo en cada url:"
   ]
  },
  {
   "cell_type": "code",
   "execution_count": 6,
   "metadata": {},
   "outputs": [
    {
     "data": {
      "text/plain": [
       "109"
      ]
     },
     "execution_count": 6,
     "metadata": {},
     "output_type": "execute_result"
    }
   ],
   "source": [
    "# Número de empresas distintas\n",
    "\n",
    "len(master_table[0]['Empresa'].unique())"
   ]
  },
  {
   "cell_type": "code",
   "execution_count": 7,
   "metadata": {},
   "outputs": [
    {
     "data": {
      "text/plain": [
       "array(['3M', 'AB Foods', 'Acciona', 'Acerinox', 'ACS', 'Adidas', 'Aena',\n",
       "       'Air Liquide', 'Airbus', 'Allianz', 'Amazon', 'Archer Daniels',\n",
       "       'ATT', 'Aviva', 'Axa', 'Banco Sabadell', 'Banco Santander',\n",
       "       'Bankia', 'Bankinter', 'Basf', 'BBVA', 'BMW', 'Boeing', 'BP', 'BT',\n",
       "       'Burberry', 'CAF', 'Caixabank', 'Catalana Occidente',\n",
       "       'Caterpillar', 'Cellnex', 'Chevron', 'CIE Automotive', 'Coca Cola',\n",
       "       'Colgate', 'Colonial', 'Daimler', 'Danone', 'Deutsche Telekom',\n",
       "       'E.on', 'Ebro Foods', 'Elecnor', 'Enagás', 'Ence', 'Endesa',\n",
       "       'Engie', 'Euronext', 'Exxon', 'Facebook', 'FCC', 'Ferrari',\n",
       "       'Ferrovial', 'General Electric', 'General Mills', 'Gestamp',\n",
       "       'Google (Alphabet)', 'Grifols', 'Henkel', 'Iberdrola', 'Iberpapel',\n",
       "       'IBM', 'Illinois Tool Works', 'Inditex', 'Indra', 'Intel',\n",
       "       'Johnson & Johnson', 'Kimberly-Clark', 'Klepierre', 'Kraft Heinz',\n",
       "       'Linde', 'Lingotes Especiales', 'Logista', 'LSE', 'LVMH', 'Mapfre',\n",
       "       'McDonalds', 'Merlín', 'MIcrosoft', 'Miquel y Costas', 'Mondelez',\n",
       "       'Munich Re', 'National Grid', 'Naturgy (Gas Natural)', 'Nike',\n",
       "       'Otis', 'PepsiCo', 'Procter and Gamble', 'REE', 'Repsol',\n",
       "       'Royal Mail', 'RWE', 'Severn Trent', 'Siemens', 'Simon Property',\n",
       "       'Talgo', 'Técnicas Reunidas', 'Telefónica', 'Total',\n",
       "       'Unibail Rodamco', 'Unilever', 'United Utilities', 'Veolia',\n",
       "       'Verizon', 'Vidrala', 'Vinci', 'Viscofán', 'Vodafone', 'Walmart',\n",
       "       'Zardoya Otis'], dtype=object)"
      ]
     },
     "execution_count": 7,
     "metadata": {},
     "output_type": "execute_result"
    }
   ],
   "source": [
    "# Valores de esas empresas\n",
    "\n",
    "empresas = master_table[0]['Empresa'].unique()\n",
    "empresas"
   ]
  },
  {
   "cell_type": "markdown",
   "metadata": {},
   "source": [
    "**Transformar nombres de empresa:**\n",
    "- Agregar el nombre de la empresa al final para completar cada url:  \n",
    "    - https://www.invertirenbolsa.info/historicodividendos/empresa/ ...  \n",
    "- Cambiar los espacios por guión medio:  \n",
    "    - *Banco Santander >> banco-santander*\n",
    "- Eliminar los paréntesis:  \n",
    "    - *Google (Alphabet) >> google-alphabet*\n",
    "- Cambiar los puntos por guión medio:     \n",
    "    - *E.on >> e-on*\n",
    "- Eliminar el carácter '&':\n",
    "    - *Johnson & Johnson >> johnson-johnson*\n",
    "- Eliminar tildes.\n",
    "- Transformar todas las letras en minúsculas."
   ]
  },
  {
   "cell_type": "code",
   "execution_count": 8,
   "metadata": {
    "scrolled": true
   },
   "outputs": [
    {
     "data": {
      "text/plain": [
       "['3m',\n",
       " 'ab-foods',\n",
       " 'acciona',\n",
       " 'acerinox',\n",
       " 'acs',\n",
       " 'adidas',\n",
       " 'aena',\n",
       " 'air-liquide',\n",
       " 'airbus',\n",
       " 'allianz',\n",
       " 'amazon',\n",
       " 'archer-daniels',\n",
       " 'att',\n",
       " 'aviva',\n",
       " 'axa',\n",
       " 'banco-sabadell',\n",
       " 'banco-santander',\n",
       " 'bankia',\n",
       " 'bankinter',\n",
       " 'basf',\n",
       " 'bbva',\n",
       " 'bmw',\n",
       " 'boeing',\n",
       " 'bp',\n",
       " 'bt',\n",
       " 'burberry',\n",
       " 'caf',\n",
       " 'caixabank',\n",
       " 'catalana-occidente',\n",
       " 'caterpillar',\n",
       " 'cellnex',\n",
       " 'chevron',\n",
       " 'cie-automotive',\n",
       " 'coca-cola',\n",
       " 'colgate',\n",
       " 'colonial',\n",
       " 'daimler',\n",
       " 'danone',\n",
       " 'deutsche-telekom',\n",
       " 'e-on',\n",
       " 'ebro-foods',\n",
       " 'elecnor',\n",
       " 'enagas',\n",
       " 'ence',\n",
       " 'endesa',\n",
       " 'engie',\n",
       " 'euronext',\n",
       " 'exxon',\n",
       " 'facebook',\n",
       " 'fcc',\n",
       " 'ferrari',\n",
       " 'ferrovial',\n",
       " 'general-electric',\n",
       " 'general-mills',\n",
       " 'gestamp',\n",
       " 'google-alphabet',\n",
       " 'grifols',\n",
       " 'henkel',\n",
       " 'iberdrola',\n",
       " 'iberpapel',\n",
       " 'ibm',\n",
       " 'illinois-tool-works',\n",
       " 'inditex',\n",
       " 'indra',\n",
       " 'intel',\n",
       " 'johnson-johnson',\n",
       " 'kimberly-clark',\n",
       " 'klepierre',\n",
       " 'kraft-heinz',\n",
       " 'linde',\n",
       " 'lingotes-especiales',\n",
       " 'logista',\n",
       " 'lse',\n",
       " 'lvmh',\n",
       " 'mapfre',\n",
       " 'mcdonalds',\n",
       " 'merlin',\n",
       " 'microsoft',\n",
       " 'miquel-y-costas',\n",
       " 'mondelez',\n",
       " 'munich-re',\n",
       " 'national-grid',\n",
       " 'naturgy-gas-natural',\n",
       " 'nike',\n",
       " 'otis',\n",
       " 'pepsico',\n",
       " 'procter-and-gamble',\n",
       " 'ree',\n",
       " 'repsol',\n",
       " 'royal-mail',\n",
       " 'rwe',\n",
       " 'severn-trent',\n",
       " 'siemens',\n",
       " 'simon-property',\n",
       " 'talgo',\n",
       " 'tecnicas-reunidas',\n",
       " 'telefonica',\n",
       " 'total',\n",
       " 'unibail-rodamco',\n",
       " 'unilever',\n",
       " 'united-utilities',\n",
       " 'veolia',\n",
       " 'verizon',\n",
       " 'vidrala',\n",
       " 'vinci',\n",
       " 'viscofan',\n",
       " 'vodafone',\n",
       " 'walmart',\n",
       " 'zardoya-otis']"
      ]
     },
     "execution_count": 8,
     "metadata": {},
     "output_type": "execute_result"
    }
   ],
   "source": [
    "# Bucle para transformar cada nombre de empresa\n",
    "\n",
    "empresas_clean =  []\n",
    "\n",
    "for empresa in empresas:\n",
    "    empresa = empresa.replace(\"&\", \"\")\n",
    "    empresa = empresa.replace(\"(\", \"\")\n",
    "    empresa = empresa.replace(\")\", \"\")\n",
    "    empresa = empresa.replace(\" \", \"-\")\n",
    "    empresa = empresa.replace(\".\", \"-\")\n",
    "    empresa = empresa.replace(\"--\", \"-\") # Para evitar error en Johnson & Johnson\n",
    "    empresa = empresa.lower()\n",
    "    empresa = empresa.replace(\"á\", \"a\")\n",
    "    empresa = empresa.replace(\"é\", \"e\")\n",
    "    empresa = empresa.replace(\"í\", \"i\")\n",
    "    empresa = empresa.replace(\"ó\", \"o\")\n",
    "    empresas_clean.append(empresa)\n",
    "empresas_clean"
   ]
  },
  {
   "cell_type": "markdown",
   "metadata": {},
   "source": [
    "**Crear el dataset:**\n",
    "- Agregar el nombre de la empresa al final para completar cada url y acceder a cada Tabla número 4 de la misma.\n",
    "- Eliminar las filas `%`, `Observaciones` y vacías.\n",
    "- Tomar las columnas hasta encontrar el primer año con `NaN`\n",
    "- Intentar que no se pierdan las \"comas\" (como separador de decimales). **`OK!`**\n",
    "- Añadir el nombre de la empresa y el año en 2 columnas, transponiendo los datos.\n",
    "- Añadir también otra columna con el sector de la empresa.\n"
   ]
  },
  {
   "cell_type": "code",
   "execution_count": 9,
   "metadata": {
    "scrolled": true
   },
   "outputs": [
    {
     "data": {
      "text/html": [
       "<div>\n",
       "<style scoped>\n",
       "    .dataframe tbody tr th:only-of-type {\n",
       "        vertical-align: middle;\n",
       "    }\n",
       "\n",
       "    .dataframe tbody tr th {\n",
       "        vertical-align: top;\n",
       "    }\n",
       "\n",
       "    .dataframe thead th {\n",
       "        text-align: right;\n",
       "    }\n",
       "</style>\n",
       "<table border=\"1\" class=\"dataframe\">\n",
       "  <thead>\n",
       "    <tr style=\"text-align: right;\">\n",
       "      <th></th>\n",
       "      <th>Company</th>\n",
       "      <th>KPI</th>\n",
       "      <th>Year</th>\n",
       "      <th>value</th>\n",
       "    </tr>\n",
       "  </thead>\n",
       "  <tbody>\n",
       "    <tr>\n",
       "      <th>0</th>\n",
       "      <td>3m</td>\n",
       "      <td>Ingresos</td>\n",
       "      <td>2020</td>\n",
       "      <td>32184.00</td>\n",
       "    </tr>\n",
       "    <tr>\n",
       "      <th>1</th>\n",
       "      <td>3m</td>\n",
       "      <td>%</td>\n",
       "      <td>2020</td>\n",
       "      <td>0.15%</td>\n",
       "    </tr>\n",
       "    <tr>\n",
       "      <th>2</th>\n",
       "      <td>3m</td>\n",
       "      <td>Coste de ventas</td>\n",
       "      <td>2020</td>\n",
       "      <td>-16605.00</td>\n",
       "    </tr>\n",
       "    <tr>\n",
       "      <th>3</th>\n",
       "      <td>3m</td>\n",
       "      <td>%</td>\n",
       "      <td>2020</td>\n",
       "      <td>3.1%</td>\n",
       "    </tr>\n",
       "    <tr>\n",
       "      <th>4</th>\n",
       "      <td>3m</td>\n",
       "      <td>Margen bruto</td>\n",
       "      <td>2020</td>\n",
       "      <td>15579.00</td>\n",
       "    </tr>\n",
       "  </tbody>\n",
       "</table>\n",
       "</div>"
      ],
      "text/plain": [
       "  Company              KPI  Year      value\n",
       "0      3m         Ingresos  2020   32184.00\n",
       "1      3m                %  2020      0.15%\n",
       "2      3m  Coste de ventas  2020  -16605.00\n",
       "3      3m                %  2020       3.1%\n",
       "4      3m     Margen bruto  2020   15579.00"
      ]
     },
     "execution_count": 9,
     "metadata": {},
     "output_type": "execute_result"
    }
   ],
   "source": [
    "url_inicio = 'https://www.invertirenbolsa.info/historicodividendos/empresa/'\n",
    "\n",
    "dataset = pd.DataFrame()\n",
    "\n",
    "for empresa in empresas_clean:\n",
    "    url_complete = url_inicio + empresa\n",
    "    tables = pd.read_html(url_complete, decimal = ',' , thousands='.')\n",
    "    df_empresa = tables[4]\n",
    "    df_empresa['Company'] = empresa\n",
    "    df_empresa = df_empresa.rename(columns ={'Unnamed: 0': 'KPI'}) # Renombrar columna\n",
    " \n",
    "    # Reordenar las columnas insertando 'Empresa' al principio del df\n",
    "    cols = list(df_empresa)\n",
    "    cols = [cols[-1]] + cols[:-1]\n",
    "    df_empresa = df_empresa[cols]\n",
    "    \n",
    "    # Reshaping by melt\n",
    "    df_empresa = df_empresa.melt(id_vars=[\"Company\", \"KPI\"], var_name=\"Year\")\n",
    "    \n",
    "    # Agregar al df general\n",
    "    dataset = pd.concat([dataset, df_empresa])\n",
    "\n",
    "dataset.head()"
   ]
  },
  {
   "cell_type": "markdown",
   "metadata": {},
   "source": [
    "Obtener el país y el sector de cada empresa y agregarlo al dataset:"
   ]
  },
  {
   "cell_type": "code",
   "execution_count": 10,
   "metadata": {},
   "outputs": [
    {
     "data": {
      "text/html": [
       "<div>\n",
       "<style scoped>\n",
       "    .dataframe tbody tr th:only-of-type {\n",
       "        vertical-align: middle;\n",
       "    }\n",
       "\n",
       "    .dataframe tbody tr th {\n",
       "        vertical-align: top;\n",
       "    }\n",
       "\n",
       "    .dataframe thead th {\n",
       "        text-align: right;\n",
       "    }\n",
       "</style>\n",
       "<table border=\"1\" class=\"dataframe\">\n",
       "  <thead>\n",
       "    <tr style=\"text-align: right;\">\n",
       "      <th></th>\n",
       "      <th>Company</th>\n",
       "      <th>Country</th>\n",
       "      <th>Sector</th>\n",
       "    </tr>\n",
       "  </thead>\n",
       "  <tbody>\n",
       "    <tr>\n",
       "      <th>3m</th>\n",
       "      <td>3m</td>\n",
       "      <td>USA</td>\n",
       "      <td>Consumo</td>\n",
       "    </tr>\n",
       "    <tr>\n",
       "      <th>ab-foods</th>\n",
       "      <td>ab-foods</td>\n",
       "      <td>Inglaterra</td>\n",
       "      <td>Alimentación</td>\n",
       "    </tr>\n",
       "    <tr>\n",
       "      <th>acciona</th>\n",
       "      <td>acciona</td>\n",
       "      <td>España</td>\n",
       "      <td>Construcción</td>\n",
       "    </tr>\n",
       "    <tr>\n",
       "      <th>acerinox</th>\n",
       "      <td>acerinox</td>\n",
       "      <td>España</td>\n",
       "      <td>Industriales</td>\n",
       "    </tr>\n",
       "    <tr>\n",
       "      <th>acs</th>\n",
       "      <td>acs</td>\n",
       "      <td>España</td>\n",
       "      <td>Construcción</td>\n",
       "    </tr>\n",
       "  </tbody>\n",
       "</table>\n",
       "</div>"
      ],
      "text/plain": [
       "           Company     Country        Sector\n",
       "3m              3m         USA       Consumo\n",
       "ab-foods  ab-foods  Inglaterra  Alimentación\n",
       "acciona    acciona      España  Construcción\n",
       "acerinox  acerinox      España  Industriales\n",
       "acs            acs      España  Construcción"
      ]
     },
     "execution_count": 10,
     "metadata": {},
     "output_type": "execute_result"
    }
   ],
   "source": [
    "import requests\n",
    "import re\n",
    "from bs4 import BeautifulSoup\n",
    "\n",
    "url_inicio = 'https://www.invertirenbolsa.info/historicodividendos/empresa/'\n",
    "\n",
    "df_pais_sector = pd.DataFrame()\n",
    "\n",
    "for empresa in empresas_clean:\n",
    "    url_complete = url_inicio + empresa\n",
    "    reqs = requests.get(url_complete)\n",
    "    soup = BeautifulSoup(reqs.text, 'lxml')\n",
    "    for heading in soup.find_all([\"h3\"]):\n",
    "        pais_sector = (heading.text.strip())\n",
    "        break\n",
    "    \n",
    "    # Extraer el país:\n",
    "    pais_fin = pais_sector.index('.')\n",
    "    pais_empresa = pais_sector[6:pais_fin]\n",
    "    \n",
    "    # Extraer el sector:\n",
    "    sector = re.search(r'.*?Sector: (\\w+).*', pais_sector)\n",
    "    sector_empresa = (sector.group(1))\n",
    "    \n",
    "    # Construir el df:\n",
    "    df_pais_sector.loc[empresa,'Company'] = empresa\n",
    "    df_pais_sector.loc[empresa, 'Country'] = pais_empresa\n",
    "    df_pais_sector.loc[empresa, 'Sector'] = sector_empresa\n",
    "\n",
    "df_pais_sector.head()"
   ]
  },
  {
   "cell_type": "code",
   "execution_count": 11,
   "metadata": {},
   "outputs": [
    {
     "data": {
      "text/html": [
       "<div>\n",
       "<style scoped>\n",
       "    .dataframe tbody tr th:only-of-type {\n",
       "        vertical-align: middle;\n",
       "    }\n",
       "\n",
       "    .dataframe tbody tr th {\n",
       "        vertical-align: top;\n",
       "    }\n",
       "\n",
       "    .dataframe thead th {\n",
       "        text-align: right;\n",
       "    }\n",
       "</style>\n",
       "<table border=\"1\" class=\"dataframe\">\n",
       "  <thead>\n",
       "    <tr style=\"text-align: right;\">\n",
       "      <th></th>\n",
       "      <th>Country</th>\n",
       "    </tr>\n",
       "    <tr>\n",
       "      <th>Country</th>\n",
       "      <th></th>\n",
       "    </tr>\n",
       "  </thead>\n",
       "  <tbody>\n",
       "    <tr>\n",
       "      <th>España</th>\n",
       "      <td>42</td>\n",
       "    </tr>\n",
       "    <tr>\n",
       "      <th>Inglaterra</th>\n",
       "      <td>11</td>\n",
       "    </tr>\n",
       "    <tr>\n",
       "      <th>USA</th>\n",
       "      <td>31</td>\n",
       "    </tr>\n",
       "    <tr>\n",
       "      <th>Zona Euro</th>\n",
       "      <td>25</td>\n",
       "    </tr>\n",
       "  </tbody>\n",
       "</table>\n",
       "</div>"
      ],
      "text/plain": [
       "            Country\n",
       "Country            \n",
       "España           42\n",
       "Inglaterra       11\n",
       "USA              31\n",
       "Zona Euro        25"
      ]
     },
     "execution_count": 11,
     "metadata": {},
     "output_type": "execute_result"
    }
   ],
   "source": [
    "df_pais_sector.groupby(['Country'])[['Country']].count()"
   ]
  },
  {
   "cell_type": "code",
   "execution_count": 12,
   "metadata": {},
   "outputs": [
    {
     "data": {
      "text/html": [
       "<div>\n",
       "<style scoped>\n",
       "    .dataframe tbody tr th:only-of-type {\n",
       "        vertical-align: middle;\n",
       "    }\n",
       "\n",
       "    .dataframe tbody tr th {\n",
       "        vertical-align: top;\n",
       "    }\n",
       "\n",
       "    .dataframe thead th {\n",
       "        text-align: right;\n",
       "    }\n",
       "</style>\n",
       "<table border=\"1\" class=\"dataframe\">\n",
       "  <thead>\n",
       "    <tr style=\"text-align: right;\">\n",
       "      <th></th>\n",
       "      <th>Sector</th>\n",
       "    </tr>\n",
       "    <tr>\n",
       "      <th>Sector</th>\n",
       "      <th></th>\n",
       "    </tr>\n",
       "  </thead>\n",
       "  <tbody>\n",
       "    <tr>\n",
       "      <th>Agua</th>\n",
       "      <td>2</td>\n",
       "    </tr>\n",
       "    <tr>\n",
       "      <th>Alimentación</th>\n",
       "      <td>8</td>\n",
       "    </tr>\n",
       "    <tr>\n",
       "      <th>Aseguradoras</th>\n",
       "      <td>6</td>\n",
       "    </tr>\n",
       "    <tr>\n",
       "      <th>Automóviles</th>\n",
       "      <td>5</td>\n",
       "    </tr>\n",
       "    <tr>\n",
       "      <th>Autopistas</th>\n",
       "      <td>2</td>\n",
       "    </tr>\n",
       "    <tr>\n",
       "      <th>Bancos</th>\n",
       "      <td>6</td>\n",
       "    </tr>\n",
       "    <tr>\n",
       "      <th>Construcción</th>\n",
       "      <td>5</td>\n",
       "    </tr>\n",
       "    <tr>\n",
       "      <th>Consumo</th>\n",
       "      <td>12</td>\n",
       "    </tr>\n",
       "    <tr>\n",
       "      <th>Distribución</th>\n",
       "      <td>2</td>\n",
       "    </tr>\n",
       "    <tr>\n",
       "      <th>Eléctricas</th>\n",
       "      <td>8</td>\n",
       "    </tr>\n",
       "    <tr>\n",
       "      <th>Energía</th>\n",
       "      <td>6</td>\n",
       "    </tr>\n",
       "    <tr>\n",
       "      <th>Farmacia</th>\n",
       "      <td>2</td>\n",
       "    </tr>\n",
       "    <tr>\n",
       "      <th>Financiera</th>\n",
       "      <td>2</td>\n",
       "    </tr>\n",
       "    <tr>\n",
       "      <th>Industriales</th>\n",
       "      <td>17</td>\n",
       "    </tr>\n",
       "    <tr>\n",
       "      <th>Lujo</th>\n",
       "      <td>1</td>\n",
       "    </tr>\n",
       "    <tr>\n",
       "      <th>Moda</th>\n",
       "      <td>1</td>\n",
       "    </tr>\n",
       "    <tr>\n",
       "      <th>Papeleras</th>\n",
       "      <td>3</td>\n",
       "    </tr>\n",
       "    <tr>\n",
       "      <th>REIT</th>\n",
       "      <td>3</td>\n",
       "    </tr>\n",
       "    <tr>\n",
       "      <th>SOCIMI</th>\n",
       "      <td>2</td>\n",
       "    </tr>\n",
       "    <tr>\n",
       "      <th>Servicios</th>\n",
       "      <td>2</td>\n",
       "    </tr>\n",
       "    <tr>\n",
       "      <th>Tecnológicas</th>\n",
       "      <td>7</td>\n",
       "    </tr>\n",
       "    <tr>\n",
       "      <th>Telecomunicaciones</th>\n",
       "      <td>7</td>\n",
       "    </tr>\n",
       "  </tbody>\n",
       "</table>\n",
       "</div>"
      ],
      "text/plain": [
       "                    Sector\n",
       "Sector                    \n",
       "Agua                     2\n",
       "Alimentación             8\n",
       "Aseguradoras             6\n",
       "Automóviles              5\n",
       "Autopistas               2\n",
       "Bancos                   6\n",
       "Construcción             5\n",
       "Consumo                 12\n",
       "Distribución             2\n",
       "Eléctricas               8\n",
       "Energía                  6\n",
       "Farmacia                 2\n",
       "Financiera               2\n",
       "Industriales            17\n",
       "Lujo                     1\n",
       "Moda                     1\n",
       "Papeleras                3\n",
       "REIT                     3\n",
       "SOCIMI                   2\n",
       "Servicios                2\n",
       "Tecnológicas             7\n",
       "Telecomunicaciones       7"
      ]
     },
     "execution_count": 12,
     "metadata": {},
     "output_type": "execute_result"
    }
   ],
   "source": [
    "df_pais_sector.groupby(['Sector'])[['Sector']].count()"
   ]
  },
  {
   "cell_type": "code",
   "execution_count": 13,
   "metadata": {},
   "outputs": [
    {
     "data": {
      "text/html": [
       "<div>\n",
       "<style scoped>\n",
       "    .dataframe tbody tr th:only-of-type {\n",
       "        vertical-align: middle;\n",
       "    }\n",
       "\n",
       "    .dataframe tbody tr th {\n",
       "        vertical-align: top;\n",
       "    }\n",
       "\n",
       "    .dataframe thead th {\n",
       "        text-align: right;\n",
       "    }\n",
       "</style>\n",
       "<table border=\"1\" class=\"dataframe\">\n",
       "  <thead>\n",
       "    <tr style=\"text-align: right;\">\n",
       "      <th></th>\n",
       "      <th>Company</th>\n",
       "      <th>KPI</th>\n",
       "      <th>Year</th>\n",
       "      <th>value</th>\n",
       "      <th>Country</th>\n",
       "      <th>Sector</th>\n",
       "    </tr>\n",
       "  </thead>\n",
       "  <tbody>\n",
       "    <tr>\n",
       "      <th>0</th>\n",
       "      <td>3m</td>\n",
       "      <td>Ingresos</td>\n",
       "      <td>2020</td>\n",
       "      <td>32184.00</td>\n",
       "      <td>USA</td>\n",
       "      <td>Consumo</td>\n",
       "    </tr>\n",
       "    <tr>\n",
       "      <th>1</th>\n",
       "      <td>3m</td>\n",
       "      <td>%</td>\n",
       "      <td>2020</td>\n",
       "      <td>0.15%</td>\n",
       "      <td>USA</td>\n",
       "      <td>Consumo</td>\n",
       "    </tr>\n",
       "    <tr>\n",
       "      <th>2</th>\n",
       "      <td>3m</td>\n",
       "      <td>Coste de ventas</td>\n",
       "      <td>2020</td>\n",
       "      <td>-16605.00</td>\n",
       "      <td>USA</td>\n",
       "      <td>Consumo</td>\n",
       "    </tr>\n",
       "    <tr>\n",
       "      <th>3</th>\n",
       "      <td>3m</td>\n",
       "      <td>%</td>\n",
       "      <td>2020</td>\n",
       "      <td>3.1%</td>\n",
       "      <td>USA</td>\n",
       "      <td>Consumo</td>\n",
       "    </tr>\n",
       "    <tr>\n",
       "      <th>4</th>\n",
       "      <td>3m</td>\n",
       "      <td>Margen bruto</td>\n",
       "      <td>2020</td>\n",
       "      <td>15579.00</td>\n",
       "      <td>USA</td>\n",
       "      <td>Consumo</td>\n",
       "    </tr>\n",
       "  </tbody>\n",
       "</table>\n",
       "</div>"
      ],
      "text/plain": [
       "  Company              KPI  Year      value Country   Sector\n",
       "0      3m         Ingresos  2020   32184.00     USA  Consumo\n",
       "1      3m                %  2020      0.15%     USA  Consumo\n",
       "2      3m  Coste de ventas  2020  -16605.00     USA  Consumo\n",
       "3      3m                %  2020       3.1%     USA  Consumo\n",
       "4      3m     Margen bruto  2020   15579.00     USA  Consumo"
      ]
     },
     "execution_count": 13,
     "metadata": {},
     "output_type": "execute_result"
    }
   ],
   "source": [
    "# Merge:\n",
    "\n",
    "dataset = dataset.merge(df_pais_sector, left_on = 'Company', right_on ='Company')\n",
    "dataset.head()"
   ]
  },
  {
   "cell_type": "code",
   "execution_count": 14,
   "metadata": {},
   "outputs": [
    {
     "data": {
      "text/html": [
       "<div>\n",
       "<style scoped>\n",
       "    .dataframe tbody tr th:only-of-type {\n",
       "        vertical-align: middle;\n",
       "    }\n",
       "\n",
       "    .dataframe tbody tr th {\n",
       "        vertical-align: top;\n",
       "    }\n",
       "\n",
       "    .dataframe thead th {\n",
       "        text-align: right;\n",
       "    }\n",
       "</style>\n",
       "<table border=\"1\" class=\"dataframe\">\n",
       "  <thead>\n",
       "    <tr style=\"text-align: right;\">\n",
       "      <th></th>\n",
       "      <th>Company</th>\n",
       "      <th>Country</th>\n",
       "      <th>Sector</th>\n",
       "      <th>KPI</th>\n",
       "      <th>Year</th>\n",
       "      <th>value</th>\n",
       "    </tr>\n",
       "  </thead>\n",
       "  <tbody>\n",
       "    <tr>\n",
       "      <th>0</th>\n",
       "      <td>3m</td>\n",
       "      <td>USA</td>\n",
       "      <td>Consumo</td>\n",
       "      <td>Ingresos</td>\n",
       "      <td>2020</td>\n",
       "      <td>32184.00</td>\n",
       "    </tr>\n",
       "    <tr>\n",
       "      <th>1</th>\n",
       "      <td>3m</td>\n",
       "      <td>USA</td>\n",
       "      <td>Consumo</td>\n",
       "      <td>%</td>\n",
       "      <td>2020</td>\n",
       "      <td>0.15%</td>\n",
       "    </tr>\n",
       "    <tr>\n",
       "      <th>2</th>\n",
       "      <td>3m</td>\n",
       "      <td>USA</td>\n",
       "      <td>Consumo</td>\n",
       "      <td>Coste de ventas</td>\n",
       "      <td>2020</td>\n",
       "      <td>-16605.00</td>\n",
       "    </tr>\n",
       "    <tr>\n",
       "      <th>3</th>\n",
       "      <td>3m</td>\n",
       "      <td>USA</td>\n",
       "      <td>Consumo</td>\n",
       "      <td>%</td>\n",
       "      <td>2020</td>\n",
       "      <td>3.1%</td>\n",
       "    </tr>\n",
       "    <tr>\n",
       "      <th>4</th>\n",
       "      <td>3m</td>\n",
       "      <td>USA</td>\n",
       "      <td>Consumo</td>\n",
       "      <td>Margen bruto</td>\n",
       "      <td>2020</td>\n",
       "      <td>15579.00</td>\n",
       "    </tr>\n",
       "  </tbody>\n",
       "</table>\n",
       "</div>"
      ],
      "text/plain": [
       "  Company Country   Sector              KPI  Year      value\n",
       "0      3m     USA  Consumo         Ingresos  2020   32184.00\n",
       "1      3m     USA  Consumo                %  2020      0.15%\n",
       "2      3m     USA  Consumo  Coste de ventas  2020  -16605.00\n",
       "3      3m     USA  Consumo                %  2020       3.1%\n",
       "4      3m     USA  Consumo     Margen bruto  2020   15579.00"
      ]
     },
     "execution_count": 14,
     "metadata": {},
     "output_type": "execute_result"
    }
   ],
   "source": [
    "# Cambio de orden de las columnas:\n",
    "\n",
    "dataset = dataset[['Company', 'Country', 'Sector', 'KPI', 'Year', 'value']]\n",
    "dataset.head()"
   ]
  },
  {
   "cell_type": "markdown",
   "metadata": {},
   "source": [
    "Eliminar filas: `%`, `Observaciones` y vacías:"
   ]
  },
  {
   "cell_type": "code",
   "execution_count": 15,
   "metadata": {},
   "outputs": [
    {
     "data": {
      "text/plain": [
       "(161373, 6)"
      ]
     },
     "execution_count": 15,
     "metadata": {},
     "output_type": "execute_result"
    }
   ],
   "source": [
    "dataset.shape"
   ]
  },
  {
   "cell_type": "code",
   "execution_count": 16,
   "metadata": {},
   "outputs": [
    {
     "data": {
      "text/plain": [
       "Company        0\n",
       "Country        0\n",
       "Sector         0\n",
       "KPI        12925\n",
       "Year           0\n",
       "value      43086\n",
       "dtype: int64"
      ]
     },
     "execution_count": 16,
     "metadata": {},
     "output_type": "execute_result"
    }
   ],
   "source": [
    "dataset.isnull().sum()"
   ]
  },
  {
   "cell_type": "code",
   "execution_count": 17,
   "metadata": {},
   "outputs": [
    {
     "data": {
      "text/plain": [
       "(118287, 6)"
      ]
     },
     "execution_count": 17,
     "metadata": {},
     "output_type": "execute_result"
    }
   ],
   "source": [
    "dataset = dataset.dropna()\n",
    "dataset.shape"
   ]
  },
  {
   "cell_type": "code",
   "execution_count": 18,
   "metadata": {},
   "outputs": [
    {
     "data": {
      "text/plain": [
       "Company    0\n",
       "Country    0\n",
       "Sector     0\n",
       "KPI        0\n",
       "Year       0\n",
       "value      0\n",
       "dtype: int64"
      ]
     },
     "execution_count": 18,
     "metadata": {},
     "output_type": "execute_result"
    }
   ],
   "source": [
    "dataset.isnull().sum()"
   ]
  },
  {
   "cell_type": "code",
   "execution_count": 19,
   "metadata": {},
   "outputs": [],
   "source": [
    "dataset = dataset.drop(dataset[dataset['KPI']=='%'].index)\n",
    "dataset = dataset.drop(dataset[dataset['KPI']=='Observaciones'].index)"
   ]
  },
  {
   "cell_type": "code",
   "execution_count": 20,
   "metadata": {},
   "outputs": [
    {
     "data": {
      "text/plain": [
       "(90050, 6)"
      ]
     },
     "execution_count": 20,
     "metadata": {},
     "output_type": "execute_result"
    }
   ],
   "source": [
    "dataset.shape"
   ]
  },
  {
   "cell_type": "code",
   "execution_count": 21,
   "metadata": {},
   "outputs": [
    {
     "data": {
      "text/plain": [
       "Company    object\n",
       "Country    object\n",
       "Sector     object\n",
       "KPI        object\n",
       "Year       object\n",
       "value      object\n",
       "dtype: object"
      ]
     },
     "execution_count": 21,
     "metadata": {},
     "output_type": "execute_result"
    }
   ],
   "source": [
    "dataset.dtypes"
   ]
  },
  {
   "cell_type": "code",
   "execution_count": 22,
   "metadata": {},
   "outputs": [],
   "source": [
    "dataset['value'] = dataset['value'].replace({'%':''}, regex=True)\n",
    "dataset['value'] = dataset['value'].replace({',':'.'}, regex=True)\n",
    "dataset['value'] = dataset['value'].astype(float)"
   ]
  },
  {
   "cell_type": "code",
   "execution_count": 23,
   "metadata": {
    "scrolled": true
   },
   "outputs": [
    {
     "data": {
      "text/html": [
       "<div>\n",
       "<style scoped>\n",
       "    .dataframe tbody tr th:only-of-type {\n",
       "        vertical-align: middle;\n",
       "    }\n",
       "\n",
       "    .dataframe tbody tr th {\n",
       "        vertical-align: top;\n",
       "    }\n",
       "\n",
       "    .dataframe thead th {\n",
       "        text-align: right;\n",
       "    }\n",
       "</style>\n",
       "<table border=\"1\" class=\"dataframe\">\n",
       "  <thead>\n",
       "    <tr style=\"text-align: right;\">\n",
       "      <th>KPI</th>\n",
       "      <th>Company</th>\n",
       "      <th>Country</th>\n",
       "      <th>Sector</th>\n",
       "      <th>Year</th>\n",
       "      <th>Activos totales</th>\n",
       "      <th>Activos totales / fondos propios</th>\n",
       "      <th>BPA %</th>\n",
       "      <th>BPA extraordinario</th>\n",
       "      <th>BPA ordinario</th>\n",
       "      <th>BPA total</th>\n",
       "      <th>...</th>\n",
       "      <th>ROCE</th>\n",
       "      <th>ROE</th>\n",
       "      <th>Ratio combinado</th>\n",
       "      <th>Ratio de eficiencia</th>\n",
       "      <th>Resultado neto ordinario</th>\n",
       "      <th>Resultado neto total</th>\n",
       "      <th>Tasa de morosidad</th>\n",
       "      <th>Tier 1</th>\n",
       "      <th>Valor contable por acción</th>\n",
       "      <th>Variación tipos cambio</th>\n",
       "    </tr>\n",
       "  </thead>\n",
       "  <tbody>\n",
       "    <tr>\n",
       "      <th>0</th>\n",
       "      <td>3m</td>\n",
       "      <td>USA</td>\n",
       "      <td>Consumo</td>\n",
       "      <td>1987</td>\n",
       "      <td>NaN</td>\n",
       "      <td>NaN</td>\n",
       "      <td>NaN</td>\n",
       "      <td>0.0</td>\n",
       "      <td>NaN</td>\n",
       "      <td>NaN</td>\n",
       "      <td>...</td>\n",
       "      <td>NaN</td>\n",
       "      <td>NaN</td>\n",
       "      <td>NaN</td>\n",
       "      <td>NaN</td>\n",
       "      <td>NaN</td>\n",
       "      <td>NaN</td>\n",
       "      <td>NaN</td>\n",
       "      <td>NaN</td>\n",
       "      <td>NaN</td>\n",
       "      <td>NaN</td>\n",
       "    </tr>\n",
       "    <tr>\n",
       "      <th>1</th>\n",
       "      <td>3m</td>\n",
       "      <td>USA</td>\n",
       "      <td>Consumo</td>\n",
       "      <td>1988</td>\n",
       "      <td>NaN</td>\n",
       "      <td>NaN</td>\n",
       "      <td>NaN</td>\n",
       "      <td>0.0</td>\n",
       "      <td>NaN</td>\n",
       "      <td>NaN</td>\n",
       "      <td>...</td>\n",
       "      <td>NaN</td>\n",
       "      <td>NaN</td>\n",
       "      <td>NaN</td>\n",
       "      <td>NaN</td>\n",
       "      <td>NaN</td>\n",
       "      <td>NaN</td>\n",
       "      <td>NaN</td>\n",
       "      <td>NaN</td>\n",
       "      <td>NaN</td>\n",
       "      <td>NaN</td>\n",
       "    </tr>\n",
       "    <tr>\n",
       "      <th>2</th>\n",
       "      <td>3m</td>\n",
       "      <td>USA</td>\n",
       "      <td>Consumo</td>\n",
       "      <td>1989</td>\n",
       "      <td>NaN</td>\n",
       "      <td>NaN</td>\n",
       "      <td>NaN</td>\n",
       "      <td>0.0</td>\n",
       "      <td>NaN</td>\n",
       "      <td>NaN</td>\n",
       "      <td>...</td>\n",
       "      <td>NaN</td>\n",
       "      <td>NaN</td>\n",
       "      <td>NaN</td>\n",
       "      <td>NaN</td>\n",
       "      <td>NaN</td>\n",
       "      <td>NaN</td>\n",
       "      <td>NaN</td>\n",
       "      <td>NaN</td>\n",
       "      <td>NaN</td>\n",
       "      <td>NaN</td>\n",
       "    </tr>\n",
       "    <tr>\n",
       "      <th>3</th>\n",
       "      <td>3m</td>\n",
       "      <td>USA</td>\n",
       "      <td>Consumo</td>\n",
       "      <td>1990</td>\n",
       "      <td>NaN</td>\n",
       "      <td>NaN</td>\n",
       "      <td>NaN</td>\n",
       "      <td>0.0</td>\n",
       "      <td>NaN</td>\n",
       "      <td>NaN</td>\n",
       "      <td>...</td>\n",
       "      <td>NaN</td>\n",
       "      <td>NaN</td>\n",
       "      <td>NaN</td>\n",
       "      <td>NaN</td>\n",
       "      <td>NaN</td>\n",
       "      <td>NaN</td>\n",
       "      <td>NaN</td>\n",
       "      <td>NaN</td>\n",
       "      <td>NaN</td>\n",
       "      <td>NaN</td>\n",
       "    </tr>\n",
       "    <tr>\n",
       "      <th>4</th>\n",
       "      <td>3m</td>\n",
       "      <td>USA</td>\n",
       "      <td>Consumo</td>\n",
       "      <td>1991</td>\n",
       "      <td>NaN</td>\n",
       "      <td>NaN</td>\n",
       "      <td>NaN</td>\n",
       "      <td>0.0</td>\n",
       "      <td>1.31</td>\n",
       "      <td>1.31</td>\n",
       "      <td>...</td>\n",
       "      <td>NaN</td>\n",
       "      <td>NaN</td>\n",
       "      <td>NaN</td>\n",
       "      <td>NaN</td>\n",
       "      <td>1154.0</td>\n",
       "      <td>NaN</td>\n",
       "      <td>NaN</td>\n",
       "      <td>NaN</td>\n",
       "      <td>NaN</td>\n",
       "      <td>-62.0</td>\n",
       "    </tr>\n",
       "  </tbody>\n",
       "</table>\n",
       "<p>5 rows × 71 columns</p>\n",
       "</div>"
      ],
      "text/plain": [
       "KPI Company Country   Sector  Year  Activos totales  \\\n",
       "0        3m     USA  Consumo  1987              NaN   \n",
       "1        3m     USA  Consumo  1988              NaN   \n",
       "2        3m     USA  Consumo  1989              NaN   \n",
       "3        3m     USA  Consumo  1990              NaN   \n",
       "4        3m     USA  Consumo  1991              NaN   \n",
       "\n",
       "KPI  Activos totales / fondos propios  BPA %  BPA extraordinario  \\\n",
       "0                                 NaN    NaN                 0.0   \n",
       "1                                 NaN    NaN                 0.0   \n",
       "2                                 NaN    NaN                 0.0   \n",
       "3                                 NaN    NaN                 0.0   \n",
       "4                                 NaN    NaN                 0.0   \n",
       "\n",
       "KPI  BPA ordinario  BPA total  ...  ROCE  ROE  Ratio combinado  \\\n",
       "0              NaN        NaN  ...   NaN  NaN              NaN   \n",
       "1              NaN        NaN  ...   NaN  NaN              NaN   \n",
       "2              NaN        NaN  ...   NaN  NaN              NaN   \n",
       "3              NaN        NaN  ...   NaN  NaN              NaN   \n",
       "4             1.31       1.31  ...   NaN  NaN              NaN   \n",
       "\n",
       "KPI  Ratio de eficiencia  Resultado neto ordinario  Resultado neto total  \\\n",
       "0                    NaN                       NaN                   NaN   \n",
       "1                    NaN                       NaN                   NaN   \n",
       "2                    NaN                       NaN                   NaN   \n",
       "3                    NaN                       NaN                   NaN   \n",
       "4                    NaN                    1154.0                   NaN   \n",
       "\n",
       "KPI  Tasa de morosidad  Tier 1  Valor contable por acción  \\\n",
       "0                  NaN     NaN                        NaN   \n",
       "1                  NaN     NaN                        NaN   \n",
       "2                  NaN     NaN                        NaN   \n",
       "3                  NaN     NaN                        NaN   \n",
       "4                  NaN     NaN                        NaN   \n",
       "\n",
       "KPI  Variación tipos cambio  \n",
       "0                       NaN  \n",
       "1                       NaN  \n",
       "2                       NaN  \n",
       "3                       NaN  \n",
       "4                     -62.0  \n",
       "\n",
       "[5 rows x 71 columns]"
      ]
     },
     "execution_count": 23,
     "metadata": {},
     "output_type": "execute_result"
    }
   ],
   "source": [
    "# Crear Wide Dataset\n",
    "\n",
    "wide_dataset = dataset.pivot_table(index=[\"Company\", 'Country', 'Sector', \"Year\"], \n",
    "                    columns='KPI', \n",
    "                    values='value').reset_index()\n",
    "wide_dataset.head()"
   ]
  },
  {
   "cell_type": "markdown",
   "metadata": {},
   "source": [
    "Exportar a Excel:"
   ]
  },
  {
   "cell_type": "code",
   "execution_count": 24,
   "metadata": {},
   "outputs": [],
   "source": [
    "wide_dataset.to_excel(r'../data/Empresas_wide.xlsx', index=False)"
   ]
  },
  {
   "cell_type": "code",
   "execution_count": 27,
   "metadata": {},
   "outputs": [],
   "source": [
    "dataset.to_excel(r'../data/Empresas.xlsx', index=False)"
   ]
  }
 ],
 "metadata": {
  "kernelspec": {
   "display_name": "Python 3",
   "language": "python",
   "name": "python3"
  },
  "language_info": {
   "codemirror_mode": {
    "name": "ipython",
    "version": 3
   },
   "file_extension": ".py",
   "mimetype": "text/x-python",
   "name": "python",
   "nbconvert_exporter": "python",
   "pygments_lexer": "ipython3",
   "version": "3.8.3"
  }
 },
 "nbformat": 4,
 "nbformat_minor": 4
}
